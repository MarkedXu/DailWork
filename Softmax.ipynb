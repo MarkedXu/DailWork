{
 "cells": [
  {
   "cell_type": "code",
   "execution_count": 1,
   "id": "1032c141-12b9-4390-b987-ed85a1e1412c",
   "metadata": {},
   "outputs": [],
   "source": [
    "import matplotlib.pyplot as plt\n",
    "import numpy as np\n",
    "import torch"
   ]
  },
  {
   "cell_type": "code",
   "execution_count": 2,
   "id": "70c9e4f2-a542-48ce-b8a7-fcf6da55e187",
   "metadata": {},
   "outputs": [],
   "source": [
    "index_lst = np.arange(-2, 4, 0.5)\n",
    "x_lst = np.asarray([-1.5, 0.5, -1., 1., 1.5, -0.5, 0., 3.5, 3., -2., 2., 2.5])\n",
    "w_lst = np.asarray([-2., 3., -1.5, 2.5, 1.5, 0., 1., 3.5, 2., -0.5, -1., 0.5])\n",
    "\n",
    "\n",
    "y_lst = w_lst*x_lst\n",
    "y_tensor = torch.from_numpy(np.asarray(y_lst))\n",
    "y_softmax = torch.softmax(y_tensor, dim=0)\n",
    "y_softmax = y_softmax.data.cpu().numpy()*1\n",
    "\n",
    "w_tensor = torch.from_numpy(np.asarray(w_lst))\n",
    "w_norm = torch.norm(w_tensor, p=2, dim=0, keepdim=True).clamp(min=1e-12)\n",
    "w_norm = torch.div(w_tensor, w_norm)\n",
    "y_tensor = torch.from_numpy(np.asarray(x_lst))\n",
    "x_norm = torch.norm(y_tensor, p=2, dim=0, keepdim=True).clamp(min=1e-12)\n",
    "x_norm = torch.div(y_tensor, x_norm)\n",
    "y_cosine = w_norm*x_norm\n",
    "\n",
    "y_3amsoftmax = torch.softmax(3*(y_cosine-0.25), dim=0)\n",
    "y_3amsoftmax = y_3amsoftmax.data.cpu().numpy()\n",
    "\n",
    "y_30amsoftmax = torch.softmax(30*(y_cosine-0.25), dim=0)\n",
    "y_30amsoftmax = y_30amsoftmax.data.cpu().numpy()*1"
   ]
  },
  {
   "cell_type": "code",
   "execution_count": 3,
   "id": "cf3d4aca-bcf5-488d-b50f-a516e59339fe",
   "metadata": {},
   "outputs": [
    {
     "data": {
      "image/png": "[encoded data removed]",
      "text/plain": [
       "<Figure size 432x288 with 1 Axes>"
      ]
     },
     "metadata": {
      "needs_background": "light"
     },
     "output_type": "display_data"
    }
   ],
   "source": [
    "plt.plot(index_lst, y_lst/8, color=\"r\", linestyle=\"-\", marker=\"o\", linewidth=1, label='$linear$')\n",
    "plt.plot(index_lst, y_softmax, color=\"b\", linestyle=\"-\", marker=\"o\", linewidth=1, label='$softmax$')\n",
    "plt.plot(index_lst, y_3amsoftmax, color=\"k\", linestyle=\"-\", marker=\"o\", linewidth=1, label='$amsoftmax(s=3, m=0.25)$')\n",
    "plt.plot(index_lst, y_30amsoftmax, color=\"g\", linestyle=\"-\", marker=\"o\", linewidth=1, label='$amsoftmax(s=20, m=0.25)$')\n",
    "plt.legend(loc='best')\n",
    "plt.xlabel(\"x\")\n",
    "plt.ylabel(\"y\")\n",
    "\n",
    "plt.show()"
   ]
  },
  {
   "cell_type": "code",
   "execution_count": 4,
   "id": "0375c3fb-3f8a-4cfc-8f6f-78903276c99c",
   "metadata": {},
   "outputs": [
    {
     "name": "stdout",
     "output_type": "stream",
     "text": [
      "False\n"
     ]
    }
   ],
   "source": [
    "import torch\n",
    "print(torch.cuda.is_available())"
   ]
  },
  {
   "cell_type": "code",
   "execution_count": 5,
   "id": "cffb60df-687e-4dc2-a936-0bcade55c209",
   "metadata": {},
   "outputs": [],
   "source": [
    "# _*_ encoding:utf-8"
   ]
  },
  {
   "cell_type": "code",
   "execution_count": 6,
   "id": "5627f69e-862c-4592-968b-d996b47c8cee",
   "metadata": {},
   "outputs": [],
   "source": [
    "import torch\n",
    "import torch.nn as nn"
   ]
  },
  {
   "cell_type": "code",
   "execution_count": 7,
   "id": "60fcdac2-c89b-46e5-bde3-2c60f6b79696",
   "metadata": {},
   "outputs": [],
   "source": [
    "class AMSoftmax(nn.Module):\n",
    "    def __init__(self,\n",
    "                in_feats,\n",
    "                n_classes=10,\n",
    "                m=0.35,\n",
    "                s=30):\n",
    "        super(AMSoftmax, self).__init__()\n",
    "        self.m = m\n",
    "        self.s = s\n",
    "        self.in_feats = in_feats\n",
    "        self.W = torch.nn.Parameter(torch.randn(in_feats, n_classes), requires_grad=True)\n",
    "        self.ce = nn.CrossEntropyLoss()\n",
    "        nn.init.xavier_normal_(self.W, gain=1)\n",
    "        \n",
    "    def forward(self, x, lb):\n",
    "        assert x.size()[0] == lb.size()[0]\n",
    "        assert x.size()[1] == self.in_feats\n",
    "        \n",
    "        x_norm = torch.norm(x, p=2, dim=1, keepdim=True).clamp(min=1e-12)\n",
    "        x_norm = torch.div(x, x_norm)\n",
    "        \n",
    "        w_norm = torch.norm(self.W, p=2, dim=0, keepdim=True).clamp(min=1e-12)\n",
    "        w_norm = torch.div(self.W, w_norm)\n",
    "        \n",
    "        costh = torch.mm(x_norm, w_norm)\n",
    "        print(x_norm.shape, w_norm.shape, costh.shape)\n",
    "        \n",
    "        lb_view = lb.view(-1, 1)\n",
    "        if lb_view.is_cuda: lb_view = lb_view.cpu()\n",
    "        delt_costh = torch.zeros(costh.size()).scatter_(1, lb_view, self.m)\n",
    "        \n",
    "        if x.is_cuda: delt_costh = delt_costh.cuda()\n",
    "        costh_m = costh - delt_costh\n",
    "        costh_m_s = self.s * costh_m\n",
    "        loss = self.ce(costh_m_s, lb)\n",
    "        return loss"
   ]
  },
  {
   "cell_type": "code",
   "execution_count": 8,
   "id": "10693905-1bc7-4345-abd4-f451954ad591",
   "metadata": {},
   "outputs": [
    {
     "name": "stdout",
     "output_type": "stream",
     "text": [
      "torch.Size([20, 1024]) torch.Size([1024, 10]) torch.Size([20, 10])\n",
      "12.857945\n",
      "torch.Size([1024, 10])\n",
      "<class 'torch.nn.parameter.Parameter'>\n"
     ]
    }
   ],
   "source": [
    "if __name__ == '__main__':\n",
    "    criteria = AMSoftmax(1024,10)\n",
    "    a = torch.randn(20,1024)\n",
    "    lb = torch.randint(0,10,(20,),dtype=torch.long)\n",
    "    loss = criteria(a, lb)\n",
    "    loss.backward()\n",
    "    \n",
    "    print(loss.detach().numpy())\n",
    "    print(list(criteria.parameters())[0].shape)\n",
    "    print(type(next(criteria.parameters())))"
   ]
  },
  {
   "cell_type": "markdown",
   "id": "2114f1f0-2030-4eaf-bd4e-13b96ba4d6b4",
   "metadata": {},
   "source": [
    "## Ending， Find for the next day, hope I can be a easy boy "
   ]
  }
 ],
 "metadata": {
  "kernelspec": {
   "display_name": "Pytorch",
   "language": "python",
   "name": "pytorch"
  },
  "language_info": {
   "codemirror_mode": {
    "name": "ipython",
    "version": 3
   },
   "file_extension": ".py",
   "mimetype": "text/x-python",
   "name": "python",
   "nbconvert_exporter": "python",
   "pygments_lexer": "ipython3",
   "version": "3.8.12"
  }
 },
 "nbformat": 4,
 "nbformat_minor": 5
}
