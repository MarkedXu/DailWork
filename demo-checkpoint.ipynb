{
 "cells": [
  {
   "cell_type": "code",
   "execution_count": null,
   "id": "9181d163-f5aa-4069-93af-e59ab6098964",
   "metadata": {},
   "outputs": [],
   "source": []
  }
 ],
 "metadata": {
  "kernelspec": {
   "display_name": "Pytorch",
   "language": "python",
   "name": "pytorch"
  },
  "language_info": {
   "name": ""
  }
 },
 "nbformat": 4,
 "nbformat_minor": 5
}
